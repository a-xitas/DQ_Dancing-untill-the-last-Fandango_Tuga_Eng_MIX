{
 "cells": [
  {
   "cell_type": "markdown",
   "metadata": {
    "collapsed": true
   },
   "source": [
    "\n",
    "# Dancing untill the last Fandango"
   ]
  },
  {
   "cell_type": "markdown",
   "metadata": {},
   "source": [
    "## . With this Project we are going to try to unveil if Fandango's officials sticked to their promise of reviewing and correcting the supposed biased rating attribution bug.\n",
    "## . We are going to analyze recent movie ratings data, and try to conclude, base on previous fidings from Walt Hickey's article on Fandango's rating system, if the same biased system prevails, or if it was corrected. "
   ]
  },
  {
   "cell_type": "code",
   "execution_count": 1,
   "metadata": {
    "collapsed": true
   },
   "outputs": [],
   "source": [
    "# Importing all the necessary libraries for the development of our analysis:\n",
    "import pandas as pd\n",
    "import matplotlib.pyplot as plt\n",
    "import numpy as np\n",
    "%matplotlib inline"
   ]
  },
  {
   "cell_type": "code",
   "execution_count": 2,
   "metadata": {
    "collapsed": false
   },
   "outputs": [
    {
     "data": {
      "text/html": [
       "<div>\n",
       "<style scoped>\n",
       "    .dataframe tbody tr th:only-of-type {\n",
       "        vertical-align: middle;\n",
       "    }\n",
       "\n",
       "    .dataframe tbody tr th {\n",
       "        vertical-align: top;\n",
       "    }\n",
       "\n",
       "    .dataframe thead th {\n",
       "        text-align: right;\n",
       "    }\n",
       "</style>\n",
       "<table border=\"1\" class=\"dataframe\">\n",
       "  <thead>\n",
       "    <tr style=\"text-align: right;\">\n",
       "      <th></th>\n",
       "      <th>FILM</th>\n",
       "      <th>RottenTomatoes</th>\n",
       "      <th>RottenTomatoes_User</th>\n",
       "      <th>Metacritic</th>\n",
       "      <th>Metacritic_User</th>\n",
       "      <th>IMDB</th>\n",
       "      <th>Fandango_Stars</th>\n",
       "      <th>Fandango_Ratingvalue</th>\n",
       "      <th>RT_norm</th>\n",
       "      <th>RT_user_norm</th>\n",
       "      <th>...</th>\n",
       "      <th>IMDB_norm</th>\n",
       "      <th>RT_norm_round</th>\n",
       "      <th>RT_user_norm_round</th>\n",
       "      <th>Metacritic_norm_round</th>\n",
       "      <th>Metacritic_user_norm_round</th>\n",
       "      <th>IMDB_norm_round</th>\n",
       "      <th>Metacritic_user_vote_count</th>\n",
       "      <th>IMDB_user_vote_count</th>\n",
       "      <th>Fandango_votes</th>\n",
       "      <th>Fandango_Difference</th>\n",
       "    </tr>\n",
       "  </thead>\n",
       "  <tbody>\n",
       "    <tr>\n",
       "      <th>0</th>\n",
       "      <td>Avengers: Age of Ultron (2015)</td>\n",
       "      <td>74</td>\n",
       "      <td>86</td>\n",
       "      <td>66</td>\n",
       "      <td>7.1</td>\n",
       "      <td>7.8</td>\n",
       "      <td>5.0</td>\n",
       "      <td>4.5</td>\n",
       "      <td>3.70</td>\n",
       "      <td>4.3</td>\n",
       "      <td>...</td>\n",
       "      <td>3.90</td>\n",
       "      <td>3.5</td>\n",
       "      <td>4.5</td>\n",
       "      <td>3.5</td>\n",
       "      <td>3.5</td>\n",
       "      <td>4.0</td>\n",
       "      <td>1330</td>\n",
       "      <td>271107</td>\n",
       "      <td>14846</td>\n",
       "      <td>0.5</td>\n",
       "    </tr>\n",
       "    <tr>\n",
       "      <th>1</th>\n",
       "      <td>Cinderella (2015)</td>\n",
       "      <td>85</td>\n",
       "      <td>80</td>\n",
       "      <td>67</td>\n",
       "      <td>7.5</td>\n",
       "      <td>7.1</td>\n",
       "      <td>5.0</td>\n",
       "      <td>4.5</td>\n",
       "      <td>4.25</td>\n",
       "      <td>4.0</td>\n",
       "      <td>...</td>\n",
       "      <td>3.55</td>\n",
       "      <td>4.5</td>\n",
       "      <td>4.0</td>\n",
       "      <td>3.5</td>\n",
       "      <td>4.0</td>\n",
       "      <td>3.5</td>\n",
       "      <td>249</td>\n",
       "      <td>65709</td>\n",
       "      <td>12640</td>\n",
       "      <td>0.5</td>\n",
       "    </tr>\n",
       "    <tr>\n",
       "      <th>2</th>\n",
       "      <td>Ant-Man (2015)</td>\n",
       "      <td>80</td>\n",
       "      <td>90</td>\n",
       "      <td>64</td>\n",
       "      <td>8.1</td>\n",
       "      <td>7.8</td>\n",
       "      <td>5.0</td>\n",
       "      <td>4.5</td>\n",
       "      <td>4.00</td>\n",
       "      <td>4.5</td>\n",
       "      <td>...</td>\n",
       "      <td>3.90</td>\n",
       "      <td>4.0</td>\n",
       "      <td>4.5</td>\n",
       "      <td>3.0</td>\n",
       "      <td>4.0</td>\n",
       "      <td>4.0</td>\n",
       "      <td>627</td>\n",
       "      <td>103660</td>\n",
       "      <td>12055</td>\n",
       "      <td>0.5</td>\n",
       "    </tr>\n",
       "    <tr>\n",
       "      <th>3</th>\n",
       "      <td>Do You Believe? (2015)</td>\n",
       "      <td>18</td>\n",
       "      <td>84</td>\n",
       "      <td>22</td>\n",
       "      <td>4.7</td>\n",
       "      <td>5.4</td>\n",
       "      <td>5.0</td>\n",
       "      <td>4.5</td>\n",
       "      <td>0.90</td>\n",
       "      <td>4.2</td>\n",
       "      <td>...</td>\n",
       "      <td>2.70</td>\n",
       "      <td>1.0</td>\n",
       "      <td>4.0</td>\n",
       "      <td>1.0</td>\n",
       "      <td>2.5</td>\n",
       "      <td>2.5</td>\n",
       "      <td>31</td>\n",
       "      <td>3136</td>\n",
       "      <td>1793</td>\n",
       "      <td>0.5</td>\n",
       "    </tr>\n",
       "    <tr>\n",
       "      <th>4</th>\n",
       "      <td>Hot Tub Time Machine 2 (2015)</td>\n",
       "      <td>14</td>\n",
       "      <td>28</td>\n",
       "      <td>29</td>\n",
       "      <td>3.4</td>\n",
       "      <td>5.1</td>\n",
       "      <td>3.5</td>\n",
       "      <td>3.0</td>\n",
       "      <td>0.70</td>\n",
       "      <td>1.4</td>\n",
       "      <td>...</td>\n",
       "      <td>2.55</td>\n",
       "      <td>0.5</td>\n",
       "      <td>1.5</td>\n",
       "      <td>1.5</td>\n",
       "      <td>1.5</td>\n",
       "      <td>2.5</td>\n",
       "      <td>88</td>\n",
       "      <td>19560</td>\n",
       "      <td>1021</td>\n",
       "      <td>0.5</td>\n",
       "    </tr>\n",
       "  </tbody>\n",
       "</table>\n",
       "<p>5 rows × 22 columns</p>\n",
       "</div>"
      ],
      "text/plain": [
       "                             FILM  RottenTomatoes  RottenTomatoes_User  \\\n",
       "0  Avengers: Age of Ultron (2015)              74                   86   \n",
       "1               Cinderella (2015)              85                   80   \n",
       "2                  Ant-Man (2015)              80                   90   \n",
       "3          Do You Believe? (2015)              18                   84   \n",
       "4   Hot Tub Time Machine 2 (2015)              14                   28   \n",
       "\n",
       "   Metacritic  Metacritic_User  IMDB  Fandango_Stars  Fandango_Ratingvalue  \\\n",
       "0          66              7.1   7.8             5.0                   4.5   \n",
       "1          67              7.5   7.1             5.0                   4.5   \n",
       "2          64              8.1   7.8             5.0                   4.5   \n",
       "3          22              4.7   5.4             5.0                   4.5   \n",
       "4          29              3.4   5.1             3.5                   3.0   \n",
       "\n",
       "   RT_norm  RT_user_norm         ...           IMDB_norm  RT_norm_round  \\\n",
       "0     3.70           4.3         ...                3.90            3.5   \n",
       "1     4.25           4.0         ...                3.55            4.5   \n",
       "2     4.00           4.5         ...                3.90            4.0   \n",
       "3     0.90           4.2         ...                2.70            1.0   \n",
       "4     0.70           1.4         ...                2.55            0.5   \n",
       "\n",
       "   RT_user_norm_round  Metacritic_norm_round  Metacritic_user_norm_round  \\\n",
       "0                 4.5                    3.5                         3.5   \n",
       "1                 4.0                    3.5                         4.0   \n",
       "2                 4.5                    3.0                         4.0   \n",
       "3                 4.0                    1.0                         2.5   \n",
       "4                 1.5                    1.5                         1.5   \n",
       "\n",
       "   IMDB_norm_round  Metacritic_user_vote_count  IMDB_user_vote_count  \\\n",
       "0              4.0                        1330                271107   \n",
       "1              3.5                         249                 65709   \n",
       "2              4.0                         627                103660   \n",
       "3              2.5                          31                  3136   \n",
       "4              2.5                          88                 19560   \n",
       "\n",
       "   Fandango_votes  Fandango_Difference  \n",
       "0           14846                  0.5  \n",
       "1           12640                  0.5  \n",
       "2           12055                  0.5  \n",
       "3            1793                  0.5  \n",
       "4            1021                  0.5  \n",
       "\n",
       "[5 rows x 22 columns]"
      ]
     },
     "execution_count": 2,
     "metadata": {},
     "output_type": "execute_result"
    }
   ],
   "source": [
    "# Reading into Walt Hickey (WH) Dataset:\n",
    "WH = pd.read_csv('fandango_score_comparison.csv')\n",
    "WH[:5]"
   ]
  },
  {
   "cell_type": "code",
   "execution_count": 3,
   "metadata": {
    "collapsed": false
   },
   "outputs": [
    {
     "data": {
      "text/html": [
       "<div>\n",
       "<style scoped>\n",
       "    .dataframe tbody tr th:only-of-type {\n",
       "        vertical-align: middle;\n",
       "    }\n",
       "\n",
       "    .dataframe tbody tr th {\n",
       "        vertical-align: top;\n",
       "    }\n",
       "\n",
       "    .dataframe thead th {\n",
       "        text-align: right;\n",
       "    }\n",
       "</style>\n",
       "<table border=\"1\" class=\"dataframe\">\n",
       "  <thead>\n",
       "    <tr style=\"text-align: right;\">\n",
       "      <th></th>\n",
       "      <th>movie</th>\n",
       "      <th>year</th>\n",
       "      <th>metascore</th>\n",
       "      <th>imdb</th>\n",
       "      <th>tmeter</th>\n",
       "      <th>audience</th>\n",
       "      <th>fandango</th>\n",
       "      <th>n_metascore</th>\n",
       "      <th>n_imdb</th>\n",
       "      <th>n_tmeter</th>\n",
       "      <th>n_audience</th>\n",
       "      <th>nr_metascore</th>\n",
       "      <th>nr_imdb</th>\n",
       "      <th>nr_tmeter</th>\n",
       "      <th>nr_audience</th>\n",
       "    </tr>\n",
       "  </thead>\n",
       "  <tbody>\n",
       "    <tr>\n",
       "      <th>0</th>\n",
       "      <td>10 Cloverfield Lane</td>\n",
       "      <td>2016</td>\n",
       "      <td>76</td>\n",
       "      <td>7.2</td>\n",
       "      <td>90</td>\n",
       "      <td>79</td>\n",
       "      <td>3.5</td>\n",
       "      <td>3.80</td>\n",
       "      <td>3.60</td>\n",
       "      <td>4.50</td>\n",
       "      <td>3.95</td>\n",
       "      <td>4.0</td>\n",
       "      <td>3.5</td>\n",
       "      <td>4.5</td>\n",
       "      <td>4.0</td>\n",
       "    </tr>\n",
       "    <tr>\n",
       "      <th>1</th>\n",
       "      <td>13 Hours</td>\n",
       "      <td>2016</td>\n",
       "      <td>48</td>\n",
       "      <td>7.3</td>\n",
       "      <td>50</td>\n",
       "      <td>83</td>\n",
       "      <td>4.5</td>\n",
       "      <td>2.40</td>\n",
       "      <td>3.65</td>\n",
       "      <td>2.50</td>\n",
       "      <td>4.15</td>\n",
       "      <td>2.5</td>\n",
       "      <td>3.5</td>\n",
       "      <td>2.5</td>\n",
       "      <td>4.0</td>\n",
       "    </tr>\n",
       "    <tr>\n",
       "      <th>2</th>\n",
       "      <td>A Cure for Wellness</td>\n",
       "      <td>2016</td>\n",
       "      <td>47</td>\n",
       "      <td>6.6</td>\n",
       "      <td>40</td>\n",
       "      <td>47</td>\n",
       "      <td>3.0</td>\n",
       "      <td>2.35</td>\n",
       "      <td>3.30</td>\n",
       "      <td>2.00</td>\n",
       "      <td>2.35</td>\n",
       "      <td>2.5</td>\n",
       "      <td>3.5</td>\n",
       "      <td>2.0</td>\n",
       "      <td>2.5</td>\n",
       "    </tr>\n",
       "    <tr>\n",
       "      <th>3</th>\n",
       "      <td>A Dog's Purpose</td>\n",
       "      <td>2017</td>\n",
       "      <td>43</td>\n",
       "      <td>5.2</td>\n",
       "      <td>33</td>\n",
       "      <td>76</td>\n",
       "      <td>4.5</td>\n",
       "      <td>2.15</td>\n",
       "      <td>2.60</td>\n",
       "      <td>1.65</td>\n",
       "      <td>3.80</td>\n",
       "      <td>2.0</td>\n",
       "      <td>2.5</td>\n",
       "      <td>1.5</td>\n",
       "      <td>4.0</td>\n",
       "    </tr>\n",
       "    <tr>\n",
       "      <th>4</th>\n",
       "      <td>A Hologram for the King</td>\n",
       "      <td>2016</td>\n",
       "      <td>58</td>\n",
       "      <td>6.1</td>\n",
       "      <td>70</td>\n",
       "      <td>57</td>\n",
       "      <td>3.0</td>\n",
       "      <td>2.90</td>\n",
       "      <td>3.05</td>\n",
       "      <td>3.50</td>\n",
       "      <td>2.85</td>\n",
       "      <td>3.0</td>\n",
       "      <td>3.0</td>\n",
       "      <td>3.5</td>\n",
       "      <td>3.0</td>\n",
       "    </tr>\n",
       "  </tbody>\n",
       "</table>\n",
       "</div>"
      ],
      "text/plain": [
       "                     movie  year  metascore  imdb  tmeter  audience  fandango  \\\n",
       "0      10 Cloverfield Lane  2016         76   7.2      90        79       3.5   \n",
       "1                 13 Hours  2016         48   7.3      50        83       4.5   \n",
       "2      A Cure for Wellness  2016         47   6.6      40        47       3.0   \n",
       "3          A Dog's Purpose  2017         43   5.2      33        76       4.5   \n",
       "4  A Hologram for the King  2016         58   6.1      70        57       3.0   \n",
       "\n",
       "   n_metascore  n_imdb  n_tmeter  n_audience  nr_metascore  nr_imdb  \\\n",
       "0         3.80    3.60      4.50        3.95           4.0      3.5   \n",
       "1         2.40    3.65      2.50        4.15           2.5      3.5   \n",
       "2         2.35    3.30      2.00        2.35           2.5      3.5   \n",
       "3         2.15    2.60      1.65        3.80           2.0      2.5   \n",
       "4         2.90    3.05      3.50        2.85           3.0      3.0   \n",
       "\n",
       "   nr_tmeter  nr_audience  \n",
       "0        4.5          4.0  \n",
       "1        2.5          4.0  \n",
       "2        2.0          2.5  \n",
       "3        1.5          4.0  \n",
       "4        3.5          3.0  "
      ]
     },
     "execution_count": 3,
     "metadata": {},
     "output_type": "execute_result"
    }
   ],
   "source": [
    "# Reading into Dataquest's (DQ) member most recent Dataset:\n",
    "DQ = pd.read_csv('movie_ratings_16_17.csv')\n",
    "DQ[:5]"
   ]
  },
  {
   "cell_type": "markdown",
   "metadata": {},
   "source": [
    "### Adapting both Dataset's, WH and DQ, to our subject of analysis - Fandango's rating system.\n",
    "### We will do so by opting for some columns in detriment of others. Choosing only to include the columns that better suit our purpose and our goals with this analysis."
   ]
  },
  {
   "cell_type": "code",
   "execution_count": 4,
   "metadata": {
    "collapsed": false
   },
   "outputs": [
    {
     "data": {
      "text/html": [
       "<div>\n",
       "<style scoped>\n",
       "    .dataframe tbody tr th:only-of-type {\n",
       "        vertical-align: middle;\n",
       "    }\n",
       "\n",
       "    .dataframe tbody tr th {\n",
       "        vertical-align: top;\n",
       "    }\n",
       "\n",
       "    .dataframe thead th {\n",
       "        text-align: right;\n",
       "    }\n",
       "</style>\n",
       "<table border=\"1\" class=\"dataframe\">\n",
       "  <thead>\n",
       "    <tr style=\"text-align: right;\">\n",
       "      <th></th>\n",
       "      <th>FILM</th>\n",
       "      <th>Fandango_Stars</th>\n",
       "      <th>Fandango_Ratingvalue</th>\n",
       "      <th>Fandango_votes</th>\n",
       "      <th>Fandango_Difference</th>\n",
       "    </tr>\n",
       "  </thead>\n",
       "  <tbody>\n",
       "    <tr>\n",
       "      <th>0</th>\n",
       "      <td>Avengers: Age of Ultron (2015)</td>\n",
       "      <td>5.0</td>\n",
       "      <td>4.5</td>\n",
       "      <td>14846</td>\n",
       "      <td>0.5</td>\n",
       "    </tr>\n",
       "    <tr>\n",
       "      <th>1</th>\n",
       "      <td>Cinderella (2015)</td>\n",
       "      <td>5.0</td>\n",
       "      <td>4.5</td>\n",
       "      <td>12640</td>\n",
       "      <td>0.5</td>\n",
       "    </tr>\n",
       "    <tr>\n",
       "      <th>2</th>\n",
       "      <td>Ant-Man (2015)</td>\n",
       "      <td>5.0</td>\n",
       "      <td>4.5</td>\n",
       "      <td>12055</td>\n",
       "      <td>0.5</td>\n",
       "    </tr>\n",
       "    <tr>\n",
       "      <th>3</th>\n",
       "      <td>Do You Believe? (2015)</td>\n",
       "      <td>5.0</td>\n",
       "      <td>4.5</td>\n",
       "      <td>1793</td>\n",
       "      <td>0.5</td>\n",
       "    </tr>\n",
       "    <tr>\n",
       "      <th>4</th>\n",
       "      <td>Hot Tub Time Machine 2 (2015)</td>\n",
       "      <td>3.5</td>\n",
       "      <td>3.0</td>\n",
       "      <td>1021</td>\n",
       "      <td>0.5</td>\n",
       "    </tr>\n",
       "  </tbody>\n",
       "</table>\n",
       "</div>"
      ],
      "text/plain": [
       "                             FILM  Fandango_Stars  Fandango_Ratingvalue  \\\n",
       "0  Avengers: Age of Ultron (2015)             5.0                   4.5   \n",
       "1               Cinderella (2015)             5.0                   4.5   \n",
       "2                  Ant-Man (2015)             5.0                   4.5   \n",
       "3          Do You Believe? (2015)             5.0                   4.5   \n",
       "4   Hot Tub Time Machine 2 (2015)             3.5                   3.0   \n",
       "\n",
       "   Fandango_votes  Fandango_Difference  \n",
       "0           14846                  0.5  \n",
       "1           12640                  0.5  \n",
       "2           12055                  0.5  \n",
       "3            1793                  0.5  \n",
       "4            1021                  0.5  "
      ]
     },
     "execution_count": 4,
     "metadata": {},
     "output_type": "execute_result"
    }
   ],
   "source": [
    "# Columns of interest for our WH DataFrame:\n",
    "cols_wh = ['FILM', 'Fandango_Stars', 'Fandango_Ratingvalue', \n",
    "        'Fandango_votes', 'Fandango_Difference']\n",
    "\n",
    "# Building our new WH Dataframe, which will only include Fandango related cols:\n",
    "fandango_wh = WH[cols_wh]\n",
    "\n",
    "fandango_wh[:5]"
   ]
  },
  {
   "cell_type": "code",
   "execution_count": 5,
   "metadata": {
    "collapsed": false
   },
   "outputs": [
    {
     "data": {
      "text/html": [
       "<div>\n",
       "<style scoped>\n",
       "    .dataframe tbody tr th:only-of-type {\n",
       "        vertical-align: middle;\n",
       "    }\n",
       "\n",
       "    .dataframe tbody tr th {\n",
       "        vertical-align: top;\n",
       "    }\n",
       "\n",
       "    .dataframe thead th {\n",
       "        text-align: right;\n",
       "    }\n",
       "</style>\n",
       "<table border=\"1\" class=\"dataframe\">\n",
       "  <thead>\n",
       "    <tr style=\"text-align: right;\">\n",
       "      <th></th>\n",
       "      <th>movie</th>\n",
       "      <th>year</th>\n",
       "      <th>fandango</th>\n",
       "    </tr>\n",
       "  </thead>\n",
       "  <tbody>\n",
       "    <tr>\n",
       "      <th>0</th>\n",
       "      <td>10 Cloverfield Lane</td>\n",
       "      <td>2016</td>\n",
       "      <td>3.5</td>\n",
       "    </tr>\n",
       "    <tr>\n",
       "      <th>1</th>\n",
       "      <td>13 Hours</td>\n",
       "      <td>2016</td>\n",
       "      <td>4.5</td>\n",
       "    </tr>\n",
       "    <tr>\n",
       "      <th>2</th>\n",
       "      <td>A Cure for Wellness</td>\n",
       "      <td>2016</td>\n",
       "      <td>3.0</td>\n",
       "    </tr>\n",
       "    <tr>\n",
       "      <th>3</th>\n",
       "      <td>A Dog's Purpose</td>\n",
       "      <td>2017</td>\n",
       "      <td>4.5</td>\n",
       "    </tr>\n",
       "    <tr>\n",
       "      <th>4</th>\n",
       "      <td>A Hologram for the King</td>\n",
       "      <td>2016</td>\n",
       "      <td>3.0</td>\n",
       "    </tr>\n",
       "  </tbody>\n",
       "</table>\n",
       "</div>"
      ],
      "text/plain": [
       "                     movie  year  fandango\n",
       "0      10 Cloverfield Lane  2016       3.5\n",
       "1                 13 Hours  2016       4.5\n",
       "2      A Cure for Wellness  2016       3.0\n",
       "3          A Dog's Purpose  2017       4.5\n",
       "4  A Hologram for the King  2016       3.0"
      ]
     },
     "execution_count": 5,
     "metadata": {},
     "output_type": "execute_result"
    }
   ],
   "source": [
    "# Columns of interest for our DQ DataFrame:\n",
    "cols_dq = ['movie', 'year', 'fandango']\n",
    "\n",
    "# Building our new DQ Dataframe, which will only include Fandango related cols:\n",
    "fandango_dq = DQ[cols_dq]\n",
    "\n",
    "fandango_dq[:5]"
   ]
  },
  {
   "cell_type": "code",
   "execution_count": 6,
   "metadata": {
    "collapsed": true
   },
   "outputs": [],
   "source": [
    "# Now we are going to extract from both Datasets two samples, that best represent\n",
    "# their respective population - different movies. With best represent, we mean \n",
    "# to say that bears the less sampling error value.\n",
    "\n",
    "# Since both our populations - fandango_wh and fandango_dq - present themselves\n",
    "# as two relatively small Datasets, containg 146 and 214 rows, respectively, \n",
    "# opting for a Simple Random Sampling (SRS) does pose as a rather challenging and\n",
    "# dangerous method. For a sample based in SRS to be representative of our \n",
    "# population, our population needs to be a large one, because our sample will \n",
    "# have to be itself a large sample. Thus, having a small population and trying to\n",
    "# sample it in a large sample, doesn't make any sense. The Sample and the \n",
    "# Population would overlap each other. "
   ]
  },
  {
   "cell_type": "code",
   "execution_count": 7,
   "metadata": {
    "collapsed": false
   },
   "outputs": [
    {
     "name": "stdout",
     "output_type": "stream",
     "text": [
      "0.024205479452054757\n",
      "Fandango_wh Shape:\t (146, 5)\n",
      "Fandango_dq Shape:\t (214, 3)\n"
     ]
    }
   ],
   "source": [
    "# TEST COM Simple Random Sampling (SRS):\n",
    "for i in range(100):\n",
    "    fandango_wh_sample = fandango_wh.sample(100, random_state=i)\n",
    "\n",
    "# Checking the Sampling Error:\n",
    "sampling_error = fandango_wh['Fandango_Ratingvalue'].mean() - \\\n",
    "                 fandango_wh_sample['Fandango_Ratingvalue'].mean()\n",
    "print(sampling_error)\n",
    "print('Fandango_wh Shape:\\t', fandango_wh.shape)\n",
    "\n",
    "print('Fandango_dq Shape:\\t', fandango_dq.shape)"
   ]
  },
  {
   "cell_type": "code",
   "execution_count": 8,
   "metadata": {
    "collapsed": false
   },
   "outputs": [
    {
     "name": "stdout",
     "output_type": "stream",
     "text": [
      "(3.75, 4.167]                  38.317757\n",
      "(4.167, 4.583]                 26.635514\n",
      "(3.333, 3.75]                  23.364486\n",
      "(2.917, 3.333]                  8.411215\n",
      "(2.4970000000000003, 2.917]     2.803738\n",
      "(4.583, 5.0]                    0.467290\n",
      "Name: fandango, dtype: float64\n"
     ]
    }
   ],
   "source": [
    "# Proportional Stratified Sampling:\n",
    "print(fandango_dq['fandango'].value_counts(bins=6, normalize=True)*100\n",
    "     )"
   ]
  },
  {
   "cell_type": "code",
   "execution_count": 9,
   "metadata": {
    "collapsed": false
   },
   "outputs": [
    {
     "name": "stdout",
     "output_type": "stream",
     "text": [
      "IntervalIndex([(2.0, 2.5], (2.5, 3.0], (3.0, 3.5], (3.5, 4.0], (4.0, 4.5], (4.5, 5.0]]\n",
      "              closed='right',\n",
      "              dtype='interval[float64]')\n"
     ]
    }
   ],
   "source": [
    "# Building our own interval ranges:\n",
    "fandango_dq_intervals = pd.interval_range(start=2, end=5, freq=0.5)\n",
    "print(fandango_dq_intervals)"
   ]
  },
  {
   "cell_type": "code",
   "execution_count": 10,
   "metadata": {
    "collapsed": false
   },
   "outputs": [
    {
     "data": {
      "text/plain": [
       "(2.0, 2.5]     6\n",
       "(2.5, 3.0]    18\n",
       "(3.0, 3.5]    50\n",
       "(3.5, 4.0]    82\n",
       "(4.0, 4.5]    57\n",
       "dtype: int64"
      ]
     },
     "execution_count": 10,
     "metadata": {},
     "output_type": "execute_result"
    }
   ],
   "source": [
    "freq_tab_fandango_dq = pd.Series([0,0,0,0,0,0], index=fandango_dq_intervals)\n",
    "\n",
    "for i in fandango_dq['fandango']:\n",
    "    for interval in fandango_dq_intervals:\n",
    "        if i in interval:\n",
    "            freq_tab_fandango_dq.loc[interval] += 1\n",
    "            \n",
    "freq_tab_fandango_dq.head()"
   ]
  },
  {
   "cell_type": "code",
   "execution_count": 11,
   "metadata": {
    "collapsed": false
   },
   "outputs": [
    {
     "data": {
      "text/plain": [
       "(2.4970000000000003, 3.0]    11.214953\n",
       "(3.0, 3.5]                   23.364486\n",
       "(3.5, 4.0]                   38.317757\n",
       "(4.0, 4.5]                   26.635514\n",
       "(4.5, 5.0]                    0.467290\n",
       "Name: fandango, dtype: float64"
      ]
     },
     "execution_count": 11,
     "metadata": {},
     "output_type": "execute_result"
    }
   ],
   "source": [
    "from scipy.stats import percentileofscore\n",
    "\n",
    "# Tentar replicar a tabela de distribuição acima, e escolher 5 bins, a ver s me\n",
    "# dão os mm intervalos: \n",
    "freq_fandango_dq = fandango_dq['fandango'].value_counts(bins=5,\n",
    "                                                       normalize=True).sort_index()*100\n",
    "freq_fandango_dq.head()"
   ]
  },
  {
   "cell_type": "code",
   "execution_count": 12,
   "metadata": {
    "collapsed": true
   },
   "outputs": [],
   "source": [
    "# Qdo ca. de 65% das observações estão distribuidas por 2 intervalos, 3.5--4.0 e\n",
    "# 4.0--4.5 n poderemos afirmar e dizer que temos uma amostra que seja representa\n",
    "# tiva de todo o espectro das Nossas Obervervações.\n",
    "\n",
    "# Vamos testar esta teoria para o outro Dataframe, o fandango_wh:"
   ]
  },
  {
   "cell_type": "code",
   "execution_count": 13,
   "metadata": {
    "collapsed": false
   },
   "outputs": [
    {
     "data": {
      "text/plain": [
       "(2.697, 3.12]    10.958904\n",
       "(3.12, 3.54]     18.493151\n",
       "(3.54, 3.96]     23.287671\n",
       "(3.96, 4.38]     31.506849\n",
       "(4.38, 4.8]      15.753425\n",
       "Name: Fandango_Ratingvalue, dtype: float64"
      ]
     },
     "execution_count": 13,
     "metadata": {},
     "output_type": "execute_result"
    }
   ],
   "source": [
    "freq_fandango_wh = fandango_wh['Fandango_Ratingvalue'].value_counts(bins=5,\n",
    "                                normalize=True).sort_index()*100\n",
    "freq_fandango_wh.head()"
   ]
  },
  {
   "cell_type": "code",
   "execution_count": 14,
   "metadata": {
    "collapsed": true
   },
   "outputs": [],
   "source": [
    "# Uma situação mt similar, como podemos verificar, aproximadamente 55% de todas\n",
    "# as observações estão contidas num array de 2 intervalos, 3.54--3.96 e 3.96--4.38\n"
   ]
  },
  {
   "cell_type": "code",
   "execution_count": 15,
   "metadata": {
    "collapsed": true
   },
   "outputs": [],
   "source": [
    "# O Q TEMOS Q FZR A SEGUIR, É COLOCAR UMA VISUALIÇÃO DESTAS FREQ P AMBOS OS DF's\n",
    "# OU PLOTAMOS UM HISTOGRAMA OU UMA KDP (KERNEL DENSITY PLOT)\n",
    "# FZR TB O EX D PLOTAR UM SCATTER C A MÉDIA P CADA DATAFRAME, E TDS OS RATINGS P\n",
    "# CADA FILME, ISTO P VER S A AMOSTRA É REPRESENTATIVA OU N, OU S, PELO CONTRÁRIO\n",
    "# OS VALORES ANDAM MT DISPERSOS E AFASTADOS DA MÉDIA"
   ]
  },
  {
   "cell_type": "code",
   "execution_count": 16,
   "metadata": {
    "collapsed": false
   },
   "outputs": [
    {
     "data": {
      "image/png": "[encoded data removed]",
      "text/plain": [
       "<matplotlib.figure.Figure at 0x7f6dfb477f98>"
      ]
     },
     "metadata": {},
     "output_type": "display_data"
    }
   ],
   "source": [
    "# Plotar um histograma para freq_fandango_dq:\n",
    "fandango_dq['fandango'].plot.hist(range=(2.5, 5), \n",
    "                                  bins=5, \n",
    "                                  title='The Distribution of Fandango_dq Ratings')\n",
    "plt.xlabel('Ratings')\n",
    "\n",
    "plt.show()"
   ]
  },
  {
   "cell_type": "code",
   "execution_count": 17,
   "metadata": {
    "collapsed": true
   },
   "outputs": [],
   "source": [
    "# O q podemos constatar acima foi exactamente as mesmas ilaçõe que tiramos da \n",
    "# distribuição de frequências, a amostra de Fandango_dq está negativamente ou\n",
    "# skewed à esquerda."
   ]
  },
  {
   "cell_type": "code",
   "execution_count": 18,
   "metadata": {
    "collapsed": false
   },
   "outputs": [
    {
     "data": {
      "image/png": "[encoded data removed]",
      "text/plain": [
       "<matplotlib.figure.Figure at 0x7f6df941cbe0>"
      ]
     },
     "metadata": {},
     "output_type": "display_data"
    }
   ],
   "source": [
    "import seaborn as sns\n",
    "\n",
    "fandango_wh['Fandango_Ratingvalue'].plot.hist(range=(2.5, 5),\n",
    "                                             bins=5,\n",
    "                                             color='red',\n",
    "                                             title='The Distribution of Fandango_wh Ratings')\n",
    "plt.xlabel('Ratings')\n",
    "\n",
    "sns.despine()\n",
    "\n",
    "plt.show()"
   ]
  },
  {
   "cell_type": "code",
   "execution_count": 19,
   "metadata": {
    "collapsed": true
   },
   "outputs": [],
   "source": [
    "# Esta distribuição é também, ainda que ligeiramente, enviesada à esquerda. Com \n",
    "# a maior parte dos valores. Poderemos portanto concluir que a amostra não deverá\n",
    "# ser representativa da população a analisar. "
   ]
  },
  {
   "cell_type": "code",
   "execution_count": 20,
   "metadata": {
    "collapsed": false
   },
   "outputs": [
    {
     "name": "stdout",
     "output_type": "stream",
     "text": [
      "5.0\n",
      "4.8\n"
     ]
    }
   ],
   "source": [
    "# Checking how many unique ratings there are in both our Dataframes:\n",
    "fandango_dq_unik = fandango_dq['fandango'].max()\n",
    "fandango_wh_unik = fandango_wh['Fandango_Ratingvalue'].max()\n",
    "\n",
    "print(fandango_dq_unik)\n",
    "print(fandango_wh_unik)"
   ]
  },
  {
   "cell_type": "code",
   "execution_count": 21,
   "metadata": {
    "collapsed": true
   },
   "outputs": [],
   "source": [
    "# Um dos motivos para este enviesamento verificado em ambas as N/amostras poderá\n",
    "# ter a ver com os critérios escolhidos pelos 2 investigadores para recolher os \n",
    "# dados e criar as amostragens.\n",
    "\n",
    "# Ambos os investigadores seguiram a mesma abordagem. Se por um lado o investigador\n",
    "# da DataQuest criou a amostra com base nos filmes mais populares para aquele\n",
    "# periodo de 2016 a 2017 - não especificando qual o critério utilizado para \n",
    "# definir mais popular - o mesmo ocorreu no caso do Walt Hickey, em que um dos\n",
    "# critérios que ele utilizou para criar a amostra foi que os filmes tivessem pelo\n",
    "# menos 30 reviews de fãs. Este critério poderá também ser entendido como uma boa\n",
    "# proxy para popularidade. \n",
    "\n",
    "# Ambos os 2 critérios podem levar com que a amostra seja composta maioritariamente\n",
    "# por filmes com ratings altos. Filmes mais populares normalmente têm tendência\n",
    "# a ter classificações mais altas que os demais. Isto poderá ser uma das \n",
    "# explicações para as as distribuições de frequência verificadas em ambas as \n",
    "# amostras. \n",
    "\n",
    "# Este tipo de amostragem designa-se por PURPOSIVE SAMPLING! Também conhecida por\n",
    "# Amostragem Selectiva ou Subjectiva "
   ]
  },
  {
   "cell_type": "code",
   "execution_count": 22,
   "metadata": {
    "collapsed": true
   },
   "outputs": [],
   "source": [
    "# O que fazer agora que verificamos que as N/amostras se encontram 'sujas'?\n",
    "# A atitude mais hercúleana a fazer seria tentarmos sacar td a Data novamente. A\n",
    "# menos existente de todo, e mais simples, seria desistir do projecto, e temos \n",
    "# ainda uma outra opção: mudar o objecto do N/estudo. Neste etapa, esta última\n",
    "# opção parece-nos a mais sensata e menos violenta a operar. Vamos tentar então\n",
    "# por isso alterar o objectivo inicial da N/análise para um outro mais fazível\n",
    "# de acordo com os dados de que dispomos. \n",
    "\n",
    "# A população de interesse em vez de serem todos os filmes com Rating na plataforma\n",
    "# Fandango, será apenas todos os filmes Populares na plataforma Fandago. E iremos\n",
    "# optar por trabalhar, e comparar os dados/filmes de 2015 com os de 2016. "
   ]
  },
  {
   "cell_type": "code",
   "execution_count": 23,
   "metadata": {
    "collapsed": true
   },
   "outputs": [],
   "source": [
    "# Primeiro, é importante limarmos a palavra popular, e tentarmos perceber o que é \n",
    "# isso de ser popular. Tratar de definir popular!\n",
    "\n",
    "# Uma boa proxy para tal é pegarmos no que já foi feito por um dos investigadores\n",
    "# e definir popular como sendo um filme que tem pelo menos 30 ou mais reviews\n",
    "# dos fãs."
   ]
  },
  {
   "cell_type": "code",
   "execution_count": 24,
   "metadata": {
    "collapsed": false
   },
   "outputs": [
    {
     "name": "stdout",
     "output_type": "stream",
     "text": [
      "[2016 2017]\n",
      "fandango_dq_2016 Movie release Year:\t [2016]\n"
     ]
    }
   ],
   "source": [
    "# Vamos então checar/validar se ambas as amostras contêm ou não filmes populares\n",
    "# mas primeiro temos q segmenter ambos os Datasets em filmes de 2015 e de 2016:\n",
    "print(fandango_dq['year'].unique())\n",
    "\n",
    "# Atribuir ao fandango_dq Dataset apenas os filmes do ano 2016:\n",
    "fandango_dq_2016 = fandango_dq[fandango_dq['year'] == 2016]\n",
    "print('fandango_dq_2016 Movie release Year:\\t',fandango_dq_2016['year'].unique())"
   ]
  },
  {
   "cell_type": "code",
   "execution_count": 25,
   "metadata": {
    "collapsed": false
   },
   "outputs": [
    {
     "name": "stdout",
     "output_type": "stream",
     "text": [
      "False    146\n",
      "Name: FILM, dtype: int64\n",
      "False    146\n",
      "Name: FILM, dtype: int64\n",
      "True     129\n",
      "False     17\n",
      "Name: FILM, dtype: int64\n"
     ]
    }
   ],
   "source": [
    "# Perceber se o fandango_wh Dataset apenas contêm filmes do ano 2015:\n",
    "print(fandango_wh['FILM'].str.contains('2016').value_counts())\n",
    "print(fandango_wh['FILM'].str.contains('2017').value_counts())\n",
    "print(fandango_wh['FILM'].str.contains('2015').value_counts())"
   ]
  },
  {
   "cell_type": "code",
   "execution_count": 26,
   "metadata": {
    "collapsed": false
   },
   "outputs": [
    {
     "data": {
      "text/html": [
       "<div>\n",
       "<style scoped>\n",
       "    .dataframe tbody tr th:only-of-type {\n",
       "        vertical-align: middle;\n",
       "    }\n",
       "\n",
       "    .dataframe tbody tr th {\n",
       "        vertical-align: top;\n",
       "    }\n",
       "\n",
       "    .dataframe thead th {\n",
       "        text-align: right;\n",
       "    }\n",
       "</style>\n",
       "<table border=\"1\" class=\"dataframe\">\n",
       "  <thead>\n",
       "    <tr style=\"text-align: right;\">\n",
       "      <th></th>\n",
       "      <th>FILM</th>\n",
       "      <th>Fandango_Stars</th>\n",
       "      <th>Fandango_Ratingvalue</th>\n",
       "      <th>Fandango_votes</th>\n",
       "      <th>Fandango_Difference</th>\n",
       "    </tr>\n",
       "  </thead>\n",
       "  <tbody>\n",
       "    <tr>\n",
       "      <th>7</th>\n",
       "      <td>Top Five (2014)</td>\n",
       "      <td>4.0</td>\n",
       "      <td>3.5</td>\n",
       "      <td>3223</td>\n",
       "      <td>0.5</td>\n",
       "    </tr>\n",
       "    <tr>\n",
       "      <th>12</th>\n",
       "      <td>Leviathan (2014)</td>\n",
       "      <td>4.0</td>\n",
       "      <td>3.5</td>\n",
       "      <td>64</td>\n",
       "      <td>0.5</td>\n",
       "    </tr>\n",
       "    <tr>\n",
       "      <th>13</th>\n",
       "      <td>Unbroken (2014)</td>\n",
       "      <td>4.5</td>\n",
       "      <td>4.1</td>\n",
       "      <td>9443</td>\n",
       "      <td>0.4</td>\n",
       "    </tr>\n",
       "    <tr>\n",
       "      <th>14</th>\n",
       "      <td>The Imitation Game (2014)</td>\n",
       "      <td>5.0</td>\n",
       "      <td>4.6</td>\n",
       "      <td>8055</td>\n",
       "      <td>0.4</td>\n",
       "    </tr>\n",
       "    <tr>\n",
       "      <th>18</th>\n",
       "      <td>Night at the Museum: Secret of the Tomb (2014)</td>\n",
       "      <td>4.5</td>\n",
       "      <td>4.1</td>\n",
       "      <td>5445</td>\n",
       "      <td>0.4</td>\n",
       "    </tr>\n",
       "    <tr>\n",
       "      <th>25</th>\n",
       "      <td>Selma (2014)</td>\n",
       "      <td>5.0</td>\n",
       "      <td>4.6</td>\n",
       "      <td>7025</td>\n",
       "      <td>0.4</td>\n",
       "    </tr>\n",
       "    <tr>\n",
       "      <th>28</th>\n",
       "      <td>Wild Tales (2014)</td>\n",
       "      <td>4.5</td>\n",
       "      <td>4.1</td>\n",
       "      <td>235</td>\n",
       "      <td>0.4</td>\n",
       "    </tr>\n",
       "    <tr>\n",
       "      <th>47</th>\n",
       "      <td>Annie (2014)</td>\n",
       "      <td>4.5</td>\n",
       "      <td>4.2</td>\n",
       "      <td>6835</td>\n",
       "      <td>0.3</td>\n",
       "    </tr>\n",
       "    <tr>\n",
       "      <th>65</th>\n",
       "      <td>Birdman (2014)</td>\n",
       "      <td>4.0</td>\n",
       "      <td>3.7</td>\n",
       "      <td>4194</td>\n",
       "      <td>0.3</td>\n",
       "    </tr>\n",
       "    <tr>\n",
       "      <th>69</th>\n",
       "      <td>Mr. Turner (2014)</td>\n",
       "      <td>3.5</td>\n",
       "      <td>3.2</td>\n",
       "      <td>290</td>\n",
       "      <td>0.3</td>\n",
       "    </tr>\n",
       "    <tr>\n",
       "      <th>74</th>\n",
       "      <td>The Hobbit: The Battle of the Five Armies (2014)</td>\n",
       "      <td>4.5</td>\n",
       "      <td>4.3</td>\n",
       "      <td>15337</td>\n",
       "      <td>0.2</td>\n",
       "    </tr>\n",
       "    <tr>\n",
       "      <th>81</th>\n",
       "      <td>Big Eyes (2014)</td>\n",
       "      <td>4.0</td>\n",
       "      <td>3.8</td>\n",
       "      <td>1501</td>\n",
       "      <td>0.2</td>\n",
       "    </tr>\n",
       "    <tr>\n",
       "      <th>96</th>\n",
       "      <td>Song of the Sea (2014)</td>\n",
       "      <td>4.5</td>\n",
       "      <td>4.3</td>\n",
       "      <td>66</td>\n",
       "      <td>0.2</td>\n",
       "    </tr>\n",
       "    <tr>\n",
       "      <th>111</th>\n",
       "      <td>Into the Woods (2014)</td>\n",
       "      <td>3.5</td>\n",
       "      <td>3.4</td>\n",
       "      <td>13055</td>\n",
       "      <td>0.1</td>\n",
       "    </tr>\n",
       "    <tr>\n",
       "      <th>113</th>\n",
       "      <td>Inherent Vice (2014)</td>\n",
       "      <td>3.0</td>\n",
       "      <td>2.9</td>\n",
       "      <td>1078</td>\n",
       "      <td>0.1</td>\n",
       "    </tr>\n",
       "    <tr>\n",
       "      <th>114</th>\n",
       "      <td>A Most Violent Year (2014)</td>\n",
       "      <td>3.5</td>\n",
       "      <td>3.4</td>\n",
       "      <td>675</td>\n",
       "      <td>0.1</td>\n",
       "    </tr>\n",
       "    <tr>\n",
       "      <th>143</th>\n",
       "      <td>Two Days, One Night (2014)</td>\n",
       "      <td>3.5</td>\n",
       "      <td>3.5</td>\n",
       "      <td>118</td>\n",
       "      <td>0.0</td>\n",
       "    </tr>\n",
       "  </tbody>\n",
       "</table>\n",
       "</div>"
      ],
      "text/plain": [
       "                                                 FILM  Fandango_Stars  \\\n",
       "7                                     Top Five (2014)             4.0   \n",
       "12                                   Leviathan (2014)             4.0   \n",
       "13                                    Unbroken (2014)             4.5   \n",
       "14                          The Imitation Game (2014)             5.0   \n",
       "18     Night at the Museum: Secret of the Tomb (2014)             4.5   \n",
       "25                                       Selma (2014)             5.0   \n",
       "28                                  Wild Tales (2014)             4.5   \n",
       "47                                       Annie (2014)             4.5   \n",
       "65                                     Birdman (2014)             4.0   \n",
       "69                                  Mr. Turner (2014)             3.5   \n",
       "74   The Hobbit: The Battle of the Five Armies (2014)             4.5   \n",
       "81                                    Big Eyes (2014)             4.0   \n",
       "96                             Song of the Sea (2014)             4.5   \n",
       "111                             Into the Woods (2014)             3.5   \n",
       "113                              Inherent Vice (2014)             3.0   \n",
       "114                        A Most Violent Year (2014)             3.5   \n",
       "143                        Two Days, One Night (2014)             3.5   \n",
       "\n",
       "     Fandango_Ratingvalue  Fandango_votes  Fandango_Difference  \n",
       "7                     3.5            3223                  0.5  \n",
       "12                    3.5              64                  0.5  \n",
       "13                    4.1            9443                  0.4  \n",
       "14                    4.6            8055                  0.4  \n",
       "18                    4.1            5445                  0.4  \n",
       "25                    4.6            7025                  0.4  \n",
       "28                    4.1             235                  0.4  \n",
       "47                    4.2            6835                  0.3  \n",
       "65                    3.7            4194                  0.3  \n",
       "69                    3.2             290                  0.3  \n",
       "74                    4.3           15337                  0.2  \n",
       "81                    3.8            1501                  0.2  \n",
       "96                    4.3              66                  0.2  \n",
       "111                   3.4           13055                  0.1  \n",
       "113                   2.9            1078                  0.1  \n",
       "114                   3.4             675                  0.1  \n",
       "143                   3.5             118                  0.0  "
      ]
     },
     "execution_count": 26,
     "metadata": {},
     "output_type": "execute_result"
    }
   ],
   "source": [
    "# Hhmmm, existem aqui 17 Datapoints que não apontam para 2015... Vamos tentar \n",
    "# perceber que puto de filmes são estes:\n",
    "fandango_wh_noninana = fandango_wh[fandango_wh['FILM'].str.contains('2015') == False]\n",
    "fandango_wh_noninana.head(17)"
   ]
  },
  {
   "cell_type": "code",
   "execution_count": 27,
   "metadata": {
    "collapsed": true
   },
   "outputs": [],
   "source": [
    "# Muito engraçado! O que podemos constatar é que a maior parte dos filme, aliás,\n",
    "# todos mesmo, que não pertencem a 2015, são Datapoints relacionados com filmes\n",
    "# do período de 2014. Para sermos o mais clean e precisos possível, teremos que \n",
    "# retirar da Nossa população estes filmes de 2014. I e, para termos um comparável\n",
    "# de 2015 e 2016, não uma especie de 2015 com 2014 comparativamente a 2016."
   ]
  },
  {
   "cell_type": "code",
   "execution_count": 28,
   "metadata": {
    "collapsed": false
   },
   "outputs": [
    {
     "name": "stdout",
     "output_type": "stream",
     "text": [
      "True    129\n",
      "Name: FILM, dtype: int64\n",
      "True\n"
     ]
    }
   ],
   "source": [
    "# Limpando então o fandango_wh Dataset e transformando-o num Dataset referente a\n",
    "# efectivamente 2015:\n",
    "\n",
    "fandango_wh_2015 = fandango_wh[\n",
    "                                fandango_wh['FILM'].str.contains('2015')\n",
    "                              ]\n",
    "\n",
    "# Checar o resultado:\n",
    "print(fandango_wh_2015['FILM'].str.contains('2015').value_counts())\n",
    "\n",
    "print(fandango_wh_2015['FILM'].str.contains('2015')\\\n",
    "      .value_counts()[1] == fandango_wh_2015.shape[0])"
   ]
  },
  {
   "cell_type": "code",
   "execution_count": 29,
   "metadata": {
    "collapsed": false
   },
   "outputs": [
    {
     "name": "stdout",
     "output_type": "stream",
     "text": [
      "129\n"
     ]
    }
   ],
   "source": [
    "# Agora sim, vamos analisar se ambas as Nossas Amostras, quer a fandango_dq_2016,\n",
    "# quer a fandango_wh_2015 são representativas dos tais filmes ditos populares:\n",
    "fandango_wh_2015.columns\n",
    "\n",
    "# A coluna com a qual queremos trabalhar, neste DataSet é a Fandango_votes. Vamos\n",
    "# então checar se o DataFrame fandango_wh_2015 está povoado de filmes populares -\n",
    "# com mais de 30 votos dos fans - ou se não:\n",
    "print(fandango_wh_2015[fandango_wh_2015['Fandango_votes'] >= 30].shape[0])"
   ]
  },
  {
   "cell_type": "code",
   "execution_count": 30,
   "metadata": {
    "collapsed": false
   },
   "outputs": [
    {
     "data": {
      "text/plain": [
       "0    3.5\n",
       "1    4.5\n",
       "2    3.0\n",
       "3    4.5\n",
       "4    3.0\n",
       "Name: fandango, dtype: float64"
      ]
     },
     "execution_count": 30,
     "metadata": {},
     "output_type": "execute_result"
    }
   ],
   "source": [
    "# Depois de validado o Dataset fandango_wh_2015 em termos de amostragem para filmes\n",
    "# populares, é a vez de fazermos o mesmo processo para a amostra fandango_dq:\n",
    "fandango_dq_2016.columns\n",
    "fandango_dq['fandango'].head()\n",
    "\n",
    "# Parece-me que aqui não temos propriamente uma coluna com os ratings dos fãs.\n",
    "# Teremos então que arranjar uma forma de contornarmos este problema."
   ]
  },
  {
   "cell_type": "code",
   "execution_count": 31,
   "metadata": {
    "collapsed": false
   },
   "outputs": [
    {
     "name": "stdout",
     "output_type": "stream",
     "text": [
      "36                             Collide\n",
      "75           Ice Age: Collision Course\n",
      "125                   Now You See Me 2\n",
      "171           The Disappointments Room\n",
      "92            Kubo and the Two Strings\n",
      "134    Pride and Prejudice and Zombies\n",
      "40                            Deadpool\n",
      "115                      Money Monster\n",
      "204                           War Dogs\n",
      "111               Miracles from Heaven\n",
      "Name: movie, dtype: object\n"
     ]
    }
   ],
   "source": [
    "# Um dos métodos que poderemos adoptar para contornar esta nuance poderá ser\n",
    "# retirar uma amosta desta N/amostra, que neste caso é a N/população, e ir \n",
    "# directamente ao website da Fandango, e verificar manualmente, e caso a caso,\n",
    "# se esses filmes dessa amostra retirada da N/população, cumprem ou não o critério\n",
    "# de filme popular.\n",
    "\n",
    "# Vamos então primeiro retirar uma amostra de 10 filmes do N/Dataset, e compara-los\n",
    "# depois com a informaçao que surge no site da Fandango. Para isso vamos utilizar\n",
    "# o método de amostragem simples, retirando 10 filmes do N/Dataset:\n",
    "fandango_dq_sample = fandango_dq_2016.sample(10, random_state=1)\n",
    "\n",
    "# Analisar quais foram os filmes recolhidos para a N/amostra:\n",
    "print(fandango_dq_sample['movie'])\n",
    "\n",
    "# Depois de analisarmos cada caso individualmente junto do website da Fandango,\n",
    "# verificamos que que a amostra é bastante representativa daquilo que definimos \n",
    "# como sendo popular. Apenas um filme apresentou  menos de 30 reviews, na categoria\n",
    "# Tomatometer, com 21 reviews, por outro lado apresenta mais de 5.000 ratings \n",
    "# que lhe foram atribuidos por pessoas que pagaram um bilhete de cinema para verem\n",
    "# o titulo em questão. Estamos a falar do Max Steel.\n",
    "\n",
    "# Podemos então afirmar com toda a segurança que esta amostra é bastante \n",
    "# representativa de uma População de filmes populares com data de lançamento \n",
    "# de 2016."
   ]
  },
  {
   "cell_type": "code",
   "execution_count": 32,
   "metadata": {
    "collapsed": false
   },
   "outputs": [
    {
     "data": {
      "image/png": "[encoded data removed]",
      "text/plain": [
       "<matplotlib.figure.Figure at 0x7f6df787d710>"
      ]
     },
     "metadata": {},
     "output_type": "display_data"
    }
   ],
   "source": [
    "# Escolher o estilo que queremos dar ao N/KDE:\n",
    "plt.style.use('fivethirtyeight')\n",
    "\n",
    "# Gerar um gráfico Kernel p ambas as amostras, e sobrepor esses mesmos 2 gráficos\n",
    "# na mesma imagem:\n",
    "fandango_wh_2015['Fandango_Stars'].plot.kde(label='Fandango_Rating_2015', \n",
    "                                            legend=True \n",
    "                                            )\n",
    "fandango_dq_2016['fandango'].plot.kde(label='Fandango_Rating_2016', legend=True)\n",
    "\n",
    "# Colocar um titulo na imagem de ambos os gráficos, e parametrizá-lo:\n",
    "plt.title('Fandango_Ratings_2015_Vs_2016', \n",
    "          fontsize=14,\n",
    "          color= 'green')\n",
    "\n",
    "# Escolher os ticks para o eixo dos x de acordo com os dados que estamos a analizar:\n",
    "plt.xticks(np.arange(0,5.5, 0.5))\n",
    "\n",
    "#sns.distplot(kde_kws = {'shade':True})\n",
    "\n",
    "# Mostrar o gráfico\n",
    "plt.show()"
   ]
  },
  {
   "cell_type": "code",
   "execution_count": 33,
   "metadata": {
    "collapsed": true
   },
   "outputs": [],
   "source": [
    "# É possivel verificar 2 tendências, primeiro ambos os gráficos são negativamente\n",
    "# incliniddos, i e, têm uma inclinação à esquerda. Isto significa que as N/amostras\n",
    "# são maioritariamente povoadas por ratings altos. A outra tendência que é possivel\n",
    "# verificar é que existe uma clara distinção entre ambas as amostras, quer a de \n",
    "# 2015 quer a de 2016. Se em 2015 os ratings estavam bem mais distribuidos pelos\n",
    "# patamares de 4.5/+, em 2016 nota-se um claro recuo na distribuição, um recuo de\n",
    "# aproximadamente 0.5. 'Caindo' a amostra mais para a direita.\n",
    "\n",
    "# Nota-se claramente um eforço da Fandango, em 2016, para suavizar e fazer um \n",
    "# 'downgrade' dos ratings. Passando grande parte da amostra para a banda dos\n",
    "# 3.5--4.5. Quando em 2015 essa banda era mais elevada, 4.0--4.5"
   ]
  },
  {
   "cell_type": "code",
   "execution_count": 34,
   "metadata": {
    "collapsed": true
   },
   "outputs": [],
   "source": [
    "# De seguida vamos tentar ter uma visão mais granular das distribuições de ambas\n",
    "# as amostras. Ir um pouco além do muito últil gráfico de estimativa de densidade\n",
    "# kernel.\n",
    "\n",
    "# Para tal, vamos criar 2 tabelas, cada tabela para uma das Amostras. E uma vez\n",
    "# que, as amostras são distintas em número, para facilitarmos a sua comparação\n",
    "# iremos usar tabelas de distribuição relativas, e expostas em percentagens."
   ]
  },
  {
   "cell_type": "code",
   "execution_count": 35,
   "metadata": {
    "collapsed": false
   },
   "outputs": [
    {
     "data": {
      "text/plain": [
       "5.0     7.0\n",
       "4.5    38.0\n",
       "4.0    28.7\n",
       "3.5    17.8\n",
       "3.0     8.5\n",
       "Name: Fandango_Stars, dtype: float64"
      ]
     },
     "execution_count": 35,
     "metadata": {},
     "output_type": "execute_result"
    }
   ],
   "source": [
    "# Tabela de frequências relativas em % para a Amostra fandango_wh_2015:\n",
    "(fandango_wh_2015['Fandango_Stars'].\\\n",
    "value_counts(normalize=True).sort_index(ascending=False)*100).round(decimals=1)"
   ]
  },
  {
   "cell_type": "code",
   "execution_count": 36,
   "metadata": {
    "collapsed": false
   },
   "outputs": [
    {
     "data": {
      "text/plain": [
       "5.0     0.5\n",
       "4.5    24.6\n",
       "4.0    40.3\n",
       "3.5    24.1\n",
       "3.0     7.3\n",
       "2.5     3.1\n",
       "Name: fandango, dtype: float64"
      ]
     },
     "execution_count": 36,
     "metadata": {},
     "output_type": "execute_result"
    }
   ],
   "source": [
    "# Tabela de frequências relativas em % para a Amostra fandango_dq_2016:\n",
    "(fandango_dq_2016['fandango'].\\\n",
    "value_counts(normalize=True).sort_index(ascending=False)*100).round(decimals=1)"
   ]
  },
  {
   "cell_type": "code",
   "execution_count": 37,
   "metadata": {
    "collapsed": true
   },
   "outputs": [],
   "source": [
    "# A tendência aqui, e o corte verificado de um ano para o outro, são ainda mais\n",
    "# claros utilizando ambas estas tabelas de frequências relativas.\n",
    "\n",
    "# Como podemos constatar, na amostra de 2015 os ratings de 4.5--5.0 estavam \n",
    "# povoados com cerca de 45% de todas as amostras. Ao invés, na amostra de 2016,\n",
    "# esse valor cai para cerca de 25%. Sendo que o maior intervalo, em 2016 passa a\n",
    "# ser o range de 3.5--4.0, com cerca de 64% de todas as amostras."
   ]
  },
  {
   "cell_type": "code",
   "execution_count": 38,
   "metadata": {
    "collapsed": true
   },
   "outputs": [],
   "source": [
    "# De seguida vamos proceder ao cálculo de alguns dados estatísticos para ambas as\n",
    "# Amostras. De entre os quais, a média, mediana, e moda. Além disso, iremos\n",
    "# apresentar esses valores num gráfico de barras agrupado, para que possamos\n",
    "# melhor vizualizar as diversas direções/diferenças dos dados estatísticos de \n",
    "# ambas as Amostras."
   ]
  },
  {
   "cell_type": "code",
   "execution_count": 39,
   "metadata": {
    "collapsed": false
   },
   "outputs": [
    {
     "data": {
      "text/html": [
       "<div>\n",
       "<style scoped>\n",
       "    .dataframe tbody tr th:only-of-type {\n",
       "        vertical-align: middle;\n",
       "    }\n",
       "\n",
       "    .dataframe tbody tr th {\n",
       "        vertical-align: top;\n",
       "    }\n",
       "\n",
       "    .dataframe thead th {\n",
       "        text-align: right;\n",
       "    }\n",
       "</style>\n",
       "<table border=\"1\" class=\"dataframe\">\n",
       "  <thead>\n",
       "    <tr style=\"text-align: right;\">\n",
       "      <th></th>\n",
       "      <th>2015</th>\n",
       "      <th>2016</th>\n",
       "    </tr>\n",
       "  </thead>\n",
       "  <tbody>\n",
       "    <tr>\n",
       "      <th>Média</th>\n",
       "      <td>4.085271</td>\n",
       "      <td>3.887435</td>\n",
       "    </tr>\n",
       "    <tr>\n",
       "      <th>Mediana</th>\n",
       "      <td>4.000000</td>\n",
       "      <td>4.000000</td>\n",
       "    </tr>\n",
       "    <tr>\n",
       "      <th>Moda</th>\n",
       "      <td>4.500000</td>\n",
       "      <td>4.000000</td>\n",
       "    </tr>\n",
       "  </tbody>\n",
       "</table>\n",
       "</div>"
      ],
      "text/plain": [
       "             2015      2016\n",
       "Média    4.085271  3.887435\n",
       "Mediana  4.000000  4.000000\n",
       "Moda     4.500000  4.000000"
      ]
     },
     "execution_count": 39,
     "metadata": {},
     "output_type": "execute_result"
    }
   ],
   "source": [
    "# Calcular a média para ambas as Amostras:\n",
    "fandango_wh_2015_ratings_média = fandango_wh_2015['Fandango_Stars'].mean()\n",
    "fandango_dq_2016_ratings_média = fandango_dq_2016['fandango'].mean()\n",
    "\n",
    "# Calcular a mediana para ambas as Amostras:\n",
    "fandango_wh_2015_ratings_mediana = fandango_wh_2015['Fandango_Stars'].median()\n",
    "fandango_dq_2016_ratings_mediana = fandango_dq_2016['fandango'].median()\n",
    "\n",
    "# Calcular a moda para ambas as Amostras:\n",
    "fandango_wh_2015_ratings_moda = fandango_wh_2015['Fandango_Stars'].mode()[0]\n",
    "fandango_dq_2016_ratings_moda = fandango_dq_2016['fandango'].mode()[0]\n",
    "\n",
    "# Criar um DataFrame a paritr das variáveis calculadas anteriormente\n",
    "data = {'2015':[fandango_wh_2015_ratings_média,\n",
    "               fandango_wh_2015_ratings_mediana,\n",
    "               fandango_wh_2015_ratings_moda],\n",
    "        '2016':[fandango_dq_2016_ratings_média,\n",
    "               fandango_dq_2016_ratings_mediana,\n",
    "               fandango_dq_2016_ratings_moda]}\n",
    "\n",
    "média_mediana_moda = pd.DataFrame(data=data,\n",
    "                                 index=['Média',\n",
    "                                        'Mediana',\n",
    "                                       'Moda'])\n",
    "média_mediana_moda.head()"
   ]
  },
  {
   "cell_type": "code",
   "execution_count": 40,
   "metadata": {
    "collapsed": false,
    "scrolled": true
   },
   "outputs": [
    {
     "data": {
      "image/png": "[encoded data removed]",
      "text/plain": [
       "<matplotlib.figure.Figure at 0x7f6df77c34a8>"
      ]
     },
     "metadata": {},
     "output_type": "display_data"
    }
   ],
   "source": [
    "# Iremos agora construir os gráficos relacionados com o Dataframe anterior:\n",
    "plt.style.use('fivethirtyeight')\n",
    "\n",
    "média_mediana_moda['2015'].plot.bar(color='#008FD5',\n",
    "                                    align='center', \n",
    "                                    edgecolor='white',\n",
    "                                    width=.30,\n",
    "                                    label='2015')\n",
    "média_mediana_moda['2016'].plot.bar(color='#FF2700',\n",
    "                                    align='edge',\n",
    "                                    edgecolor='white',\n",
    "                                    width=.30,\n",
    "                                    label='2016')\n",
    "\n",
    "plt.ylim(0,5.5)\n",
    "plt.xticks(rotation=0)\n",
    "plt.ylabel('Ratings')\n",
    "plt.title('Comparação entre as estatísticas das Amostras: 2015 Vs. 2016',\n",
    "         color='green')\n",
    "plt.legend(framealpha=.5, loc='upper right')\n",
    "plt.show()"
   ]
  },
  {
   "cell_type": "code",
   "execution_count": 41,
   "metadata": {
    "collapsed": true
   },
   "outputs": [],
   "source": [
    "# Engraçado de ver que apesar de realmente a média dos Ratings atribuidos baixar\n",
    "# do periodo de 2015 para 2016, a mediana porém mantém-se exactamente igual.\n",
    "# Quanto à moda, podemos perceber que os valores que surgiram em maior número\n",
    "# são mais elevados na Amostra de 2015 do que na de 2016. Fixando-se os valores\n",
    "# de 2015 em torno de 4.5, enquanto que os de 2016 na ordem dos 4.0. \n",
    "\n",
    "# Estas observações corroboram o que já haviamos verificado nas análises anteriores,\n",
    "# quer no gráfico de estimativa d densidade kernel, quer na tabela de frequências\n",
    "# relativas.\n",
    "\n",
    "# Um dos motivos para estas discrepâncias ocorridas de um período para o outro, \n",
    "# poderá ser atribuido a um recuo neste tipo de arredondamento por excesso, por\n",
    "# por parte da Fandango, fruto de algum tipo de alarido que poderá ter ocorrido\n",
    "# no seio dos cinéfilos, ou em grupos/foruns online da especialidade. A Fandago\n",
    "# terá cedido à pressão, e tentado corrigir a ousadia."
   ]
  }
 ],
 "metadata": {
  "kernelspec": {
   "display_name": "Python 3",
   "language": "python",
   "name": "python3"
  },
  "language_info": {
   "codemirror_mode": {
    "name": "ipython",
    "version": 3
   },
   "file_extension": ".py",
   "mimetype": "text/x-python",
   "name": "python",
   "nbconvert_exporter": "python",
   "pygments_lexer": "ipython3",
   "version": "3.4.3"
  }
 },
 "nbformat": 4,
 "nbformat_minor": 2
}
